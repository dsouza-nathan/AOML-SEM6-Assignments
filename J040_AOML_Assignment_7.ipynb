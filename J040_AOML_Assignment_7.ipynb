{
 "cells": [
  {
   "cell_type": "code",
   "execution_count": 1,
   "metadata": {},
   "outputs": [],
   "source": [
    "import numpy as np\n",
    "import time\n",
    "from sklearn.decomposition import PCA\n",
    "from sklearn.ensemble import RandomForestClassifier\n",
    "from sklearn.metrics import accuracy_score\n",
    "from sklearn.model_selection import train_test_split\n",
    "from tensorflow.keras.datasets import fashion_mnist"
   ]
  },
  {
   "cell_type": "code",
   "execution_count": 2,
   "metadata": {},
   "outputs": [],
   "source": [
    "# Step 1: Load Fashion MNIST dataset\n",
    "(X_train, y_train), (X_test, y_test) = fashion_mnist.load_data()"
   ]
  },
  {
   "cell_type": "code",
   "execution_count": 3,
   "metadata": {},
   "outputs": [],
   "source": [
    "# Flatten images from 28x28 to 784 features\n",
    "X_train = X_train.reshape(X_train.shape[0], -1)\n",
    "X_test = X_test.reshape(X_test.shape[0], -1)\n"
   ]
  },
  {
   "cell_type": "code",
   "execution_count": 4,
   "metadata": {},
   "outputs": [],
   "source": [
    "# Normalize pixel values to [0,1] range\n",
    "X_train = X_train / 255.0\n",
    "X_test = X_test / 255.0\n"
   ]
  },
  {
   "cell_type": "code",
   "execution_count": 5,
   "metadata": {},
   "outputs": [],
   "source": [
    "# Step 2: Train a baseline RandomForest model\n",
    "rf = RandomForestClassifier(n_estimators=100, random_state=42, n_jobs=-1)\n",
    "start_time = time.time()\n",
    "rf.fit(X_train, y_train)\n",
    "train_time_baseline = time.time() - start_time"
   ]
  },
  {
   "cell_type": "code",
   "execution_count": 6,
   "metadata": {},
   "outputs": [],
   "source": [
    "# Predictions & performance evaluation\n",
    "start_time = time.time()\n",
    "y_pred_baseline = rf.predict(X_test)\n",
    "inference_time_baseline = time.time() - start_time\n",
    "accuracy_baseline = accuracy_score(y_test, y_pred_baseline)\n"
   ]
  },
  {
   "cell_type": "code",
   "execution_count": 7,
   "metadata": {},
   "outputs": [],
   "source": [
    "# Step 3: Apply PCA\n",
    "pca = PCA()\n",
    "pca.fit(X_train)\n",
    "cumulative_variance = np.cumsum(pca.explained_variance_ratio_)\n",
    "n_components = np.argmax(cumulative_variance >= 0.95) + 1  # Choose components to retain 95% variance"
   ]
  },
  {
   "cell_type": "code",
   "execution_count": 8,
   "metadata": {},
   "outputs": [],
   "source": [
    "# Transform data using the selected number of components\n",
    "pca = PCA(n_components=n_components)\n",
    "X_train_pca = pca.fit_transform(X_train)\n",
    "X_test_pca = pca.transform(X_test)"
   ]
  },
  {
   "cell_type": "code",
   "execution_count": 9,
   "metadata": {},
   "outputs": [],
   "source": [
    "# Step 4: Train RandomForest on PCA-transformed data\n",
    "rf_pca = RandomForestClassifier(n_estimators=100, random_state=42, n_jobs=-1)\n",
    "start_time = time.time()\n",
    "rf_pca.fit(X_train_pca, y_train)\n",
    "train_time_pca = time.time() - start_time\n"
   ]
  },
  {
   "cell_type": "code",
   "execution_count": 10,
   "metadata": {},
   "outputs": [],
   "source": [
    "# Predictions & performance evaluation on PCA-reduced data\n",
    "start_time = time.time()\n",
    "y_pred_pca = rf_pca.predict(X_test_pca)\n",
    "inference_time_pca = time.time() - start_time\n",
    "accuracy_pca = accuracy_score(y_test, y_pred_pca)"
   ]
  },
  {
   "cell_type": "code",
   "execution_count": 11,
   "metadata": {},
   "outputs": [
    {
     "name": "stdout",
     "output_type": "stream",
     "text": [
      "Baseline Accuracy: 0.8764, Train Time: 30.55s, Inference Time: 0.6165s\n",
      "PCA Accuracy: 0.8573, Train Time: 40.19s, Inference Time: 0.3460s\n",
      "Optimal n_components: 187\n"
     ]
    }
   ],
   "source": [
    "# Step 5: Compare results\n",
    "print(f\"Baseline Accuracy: {accuracy_baseline:.4f}, Train Time: {train_time_baseline:.2f}s, Inference Time: {inference_time_baseline:.4f}s\")\n",
    "print(f\"PCA Accuracy: {accuracy_pca:.4f}, Train Time: {train_time_pca:.2f}s, Inference Time: {inference_time_pca:.4f}s\")\n",
    "print(f\"Optimal n_components: {n_components}\")\n"
   ]
  },
  {
   "cell_type": "markdown",
   "metadata": {},
   "source": [
    "## PART 2"
   ]
  },
  {
   "cell_type": "code",
   "execution_count": 35,
   "metadata": {},
   "outputs": [
    {
     "data": {
      "text/html": [
       "<div>\n",
       "<style scoped>\n",
       "    .dataframe tbody tr th:only-of-type {\n",
       "        vertical-align: middle;\n",
       "    }\n",
       "\n",
       "    .dataframe tbody tr th {\n",
       "        vertical-align: top;\n",
       "    }\n",
       "\n",
       "    .dataframe thead th {\n",
       "        text-align: right;\n",
       "    }\n",
       "</style>\n",
       "<table border=\"1\" class=\"dataframe\">\n",
       "  <thead>\n",
       "    <tr style=\"text-align: right;\">\n",
       "      <th></th>\n",
       "      <th>uid</th>\n",
       "      <th>day</th>\n",
       "      <th>hour</th>\n",
       "      <th>minute</th>\n",
       "      <th>C_motion</th>\n",
       "      <th>feed_water_motion</th>\n",
       "      <th>faucet_hole</th>\n",
       "      <th>vapour_pressure</th>\n",
       "      <th>vapour_enthalpy</th>\n",
       "      <th>vapour_pressure_at_division</th>\n",
       "      <th>vapour_motion</th>\n",
       "      <th>feed_water_enth</th>\n",
       "      <th>vapour_temperature</th>\n",
       "      <th>output_electricity_generation</th>\n",
       "    </tr>\n",
       "  </thead>\n",
       "  <tbody>\n",
       "    <tr>\n",
       "      <th>0</th>\n",
       "      <td>0</td>\n",
       "      <td>Saturday</td>\n",
       "      <td>7.0</td>\n",
       "      <td>NaN</td>\n",
       "      <td>387.374315</td>\n",
       "      <td>2681.205431</td>\n",
       "      <td>0.678352</td>\n",
       "      <td>25.050893</td>\n",
       "      <td>2775.784134</td>\n",
       "      <td>26.465138</td>\n",
       "      <td>2682.758692</td>\n",
       "      <td>1289.082351</td>\n",
       "      <td>601.850322</td>\n",
       "      <td>974.182544</td>\n",
       "    </tr>\n",
       "    <tr>\n",
       "      <th>1</th>\n",
       "      <td>1</td>\n",
       "      <td>Saturday</td>\n",
       "      <td>12.0</td>\n",
       "      <td>28.0</td>\n",
       "      <td>238.153011</td>\n",
       "      <td>1604.213100</td>\n",
       "      <td>0.679706</td>\n",
       "      <td>15.241147</td>\n",
       "      <td>2903.619864</td>\n",
       "      <td>NaN</td>\n",
       "      <td>1602.318002</td>\n",
       "      <td>1144.454102</td>\n",
       "      <td>603.933579</td>\n",
       "      <td>593.915516</td>\n",
       "    </tr>\n",
       "    <tr>\n",
       "      <th>2</th>\n",
       "      <td>2</td>\n",
       "      <td>Friday</td>\n",
       "      <td>15.0</td>\n",
       "      <td>13.0</td>\n",
       "      <td>338.270228</td>\n",
       "      <td>2398.561685</td>\n",
       "      <td>0.662971</td>\n",
       "      <td>23.078376</td>\n",
       "      <td>2796.443584</td>\n",
       "      <td>24.316160</td>\n",
       "      <td>NaN</td>\n",
       "      <td>1258.098883</td>\n",
       "      <td>602.443281</td>\n",
       "      <td>884.033450</td>\n",
       "    </tr>\n",
       "    <tr>\n",
       "      <th>3</th>\n",
       "      <td>3</td>\n",
       "      <td>Saturday</td>\n",
       "      <td>14.0</td>\n",
       "      <td>NaN</td>\n",
       "      <td>254.294492</td>\n",
       "      <td>1620.034059</td>\n",
       "      <td>0.679977</td>\n",
       "      <td>15.054982</td>\n",
       "      <td>2818.023511</td>\n",
       "      <td>15.895513</td>\n",
       "      <td>1619.387667</td>\n",
       "      <td>1142.463833</td>\n",
       "      <td>588.938717</td>\n",
       "      <td>584.908719</td>\n",
       "    </tr>\n",
       "    <tr>\n",
       "      <th>4</th>\n",
       "      <td>4</td>\n",
       "      <td>Saturday</td>\n",
       "      <td>18.0</td>\n",
       "      <td>16.0</td>\n",
       "      <td>203.189410</td>\n",
       "      <td>1485.672389</td>\n",
       "      <td>0.686342</td>\n",
       "      <td>12.963420</td>\n",
       "      <td>2816.144355</td>\n",
       "      <td>13.682371</td>\n",
       "      <td>1487.685052</td>\n",
       "      <td>1099.539481</td>\n",
       "      <td>504.208816</td>\n",
       "      <td>483.609973</td>\n",
       "    </tr>\n",
       "  </tbody>\n",
       "</table>\n",
       "</div>"
      ],
      "text/plain": [
       "   uid       day  hour  minute    C_motion  feed_water_motion  faucet_hole  \\\n",
       "0    0  Saturday   7.0     NaN  387.374315        2681.205431     0.678352   \n",
       "1    1  Saturday  12.0    28.0  238.153011        1604.213100     0.679706   \n",
       "2    2    Friday  15.0    13.0  338.270228        2398.561685     0.662971   \n",
       "3    3  Saturday  14.0     NaN  254.294492        1620.034059     0.679977   \n",
       "4    4  Saturday  18.0    16.0  203.189410        1485.672389     0.686342   \n",
       "\n",
       "   vapour_pressure  vapour_enthalpy  vapour_pressure_at_division  \\\n",
       "0        25.050893      2775.784134                    26.465138   \n",
       "1        15.241147      2903.619864                          NaN   \n",
       "2        23.078376      2796.443584                    24.316160   \n",
       "3        15.054982      2818.023511                    15.895513   \n",
       "4        12.963420      2816.144355                    13.682371   \n",
       "\n",
       "   vapour_motion  feed_water_enth  vapour_temperature  \\\n",
       "0    2682.758692      1289.082351          601.850322   \n",
       "1    1602.318002      1144.454102          603.933579   \n",
       "2            NaN      1258.098883          602.443281   \n",
       "3    1619.387667      1142.463833          588.938717   \n",
       "4    1487.685052      1099.539481          504.208816   \n",
       "\n",
       "   output_electricity_generation  \n",
       "0                     974.182544  \n",
       "1                     593.915516  \n",
       "2                     884.033450  \n",
       "3                     584.908719  \n",
       "4                     483.609973  "
      ]
     },
     "execution_count": 35,
     "metadata": {},
     "output_type": "execute_result"
    }
   ],
   "source": [
    "import pandas as pd\n",
    "df2 = pd.read_csv(\"m1_train.csv\")\n",
    "df2.head()"
   ]
  },
  {
   "cell_type": "code",
   "execution_count": 36,
   "metadata": {},
   "outputs": [],
   "source": [
    "import numpy as np\n",
    "import pandas as pd\n",
    "import time\n",
    "from sklearn.model_selection import train_test_split\n",
    "from sklearn.preprocessing import StandardScaler, PolynomialFeatures\n",
    "from sklearn.decomposition import PCA\n",
    "from sklearn.ensemble import RandomForestRegressor\n",
    "from sklearn.feature_selection import SelectKBest, f_regression, RFE, mutual_info_regression\n",
    "from sklearn.linear_model import LinearRegression\n",
    "from sklearn.metrics import mean_absolute_error"
   ]
  },
  {
   "cell_type": "code",
   "execution_count": 37,
   "metadata": {},
   "outputs": [],
   "source": [
    "# Handle missing values (if any) only for numerical columns\n",
    "df2.fillna(df2.select_dtypes(include=np.number).median(), inplace=True)\n"
   ]
  },
  {
   "cell_type": "code",
   "execution_count": 38,
   "metadata": {},
   "outputs": [],
   "source": [
    "# Step 3: Feature Engineering\n",
    "# 1. Cyclic Features (Time-based)\n",
    "df2['hour_sin'] = np.sin(2 * np.pi * df2['hour'] / 24)\n",
    "df2['hour_cos'] = np.cos(2 * np.pi * df2['hour'] / 24)\n",
    "df2['minute_sin'] = np.sin(2 * np.pi * df2['minute'] / 60)\n",
    "df2['minute_cos'] = np.cos(2 * np.pi * df2['minute'] / 60)"
   ]
  },
  {
   "cell_type": "code",
   "execution_count": 39,
   "metadata": {},
   "outputs": [
    {
     "name": "stderr",
     "output_type": "stream",
     "text": [
      "C:\\Users\\NATHAN\\AppData\\Local\\Temp\\ipykernel_7556\\1144742996.py:6: FutureWarning: A value is trying to be set on a copy of a DataFrame or Series through chained assignment using an inplace method.\n",
      "The behavior will change in pandas 3.0. This inplace method will never work because the intermediate object on which we are setting values always behaves as a copy.\n",
      "\n",
      "For example, when doing 'df[col].method(value, inplace=True)', try using 'df.method({col: value}, inplace=True)' or df[col] = df[col].method(value) instead, to perform the operation inplace on the original object.\n",
      "\n",
      "\n",
      "  df2['day'].fillna(0, inplace=True)  # Assign 0 if any unmapped values remain\n"
     ]
    }
   ],
   "source": [
    "# Convert 'day' from categorical (string) to numerical (assuming it's a weekday name)\n",
    "day_mapping = {'Monday': 1, 'Tuesday': 2, 'Wednesday': 3, 'Thursday': 4, 'Friday': 5, 'Saturday': 6, 'Sunday': 7}\n",
    "df2['day'] = df2['day'].map(day_mapping)\n",
    "\n",
    "# Ensure there are no missing values in 'day' after mapping\n",
    "df2['day'].fillna(0, inplace=True)  # Assign 0 if any unmapped values remain\n",
    "\n",
    "# Apply cyclic transformation\n",
    "df2['day_sin'] = np.sin(2 * np.pi * df2['day'] / 7)\n",
    "df2['day_cos'] = np.cos(2 * np.pi * df2['day'] / 7)\n"
   ]
  },
  {
   "cell_type": "code",
   "execution_count": 40,
   "metadata": {},
   "outputs": [],
   "source": [
    "# 2. Interaction Features\n",
    "poly = PolynomialFeatures(degree=2, interaction_only=True, include_bias=False)\n",
    "interaction_features = poly.fit_transform(df2[['C_motion', 'feed_water_motion', 'vapour_pressure', 'vapour_temperature']])\n",
    "interaction_df = pd.DataFrame(interaction_features, columns=poly.get_feature_names_out())\n",
    "df2 = pd.concat([df2, interaction_df], axis=1)"
   ]
  },
  {
   "cell_type": "code",
   "execution_count": 41,
   "metadata": {},
   "outputs": [],
   "source": [
    "scaler = StandardScaler()\n",
    "df2.iloc[:, 1:-1] = scaler.fit_transform(df2.iloc[:, 1:-1])\n"
   ]
  },
  {
   "cell_type": "code",
   "execution_count": 42,
   "metadata": {},
   "outputs": [],
   "source": [
    "scaler = StandardScaler()\n",
    "df2.iloc[:, 1:-1] = scaler.fit_transform(df2.iloc[:, 1:-1])\n"
   ]
  },
  {
   "cell_type": "code",
   "execution_count": 43,
   "metadata": {},
   "outputs": [],
   "source": [
    "X = df2.drop(columns=[\"output_electricity_generation\", \"uid\"])\n",
    "y = df2[\"output_electricity_generation\"]\n",
    "X_train, X_test, y_train, y_test = train_test_split(X, y, test_size=0.2, random_state=42)\n"
   ]
  },
  {
   "cell_type": "code",
   "execution_count": 44,
   "metadata": {},
   "outputs": [],
   "source": [
    "rf = RandomForestRegressor(n_estimators=100, random_state=42, n_jobs=-1)\n",
    "start_time = time.time()\n",
    "rf.fit(X_train, y_train)\n",
    "train_time_baseline = time.time() - start_time\n",
    "\n",
    "# Predictions & evaluation\n",
    "y_pred_baseline = rf.predict(X_test)\n",
    "mae_baseline = mean_absolute_error(y_test, y_pred_baseline)\n"
   ]
  },
  {
   "cell_type": "code",
   "execution_count": 45,
   "metadata": {},
   "outputs": [],
   "source": [
    "pca = PCA(n_components=0.95)\n",
    "X_train_pca = pca.fit_transform(X_train)\n",
    "X_test_pca = pca.transform(X_test)\n",
    "\n",
    "rf_pca = RandomForestRegressor(n_estimators=100, random_state=42, n_jobs=-1)\n",
    "rf_pca.fit(X_train_pca, y_train)\n",
    "y_pred_pca = rf_pca.predict(X_test_pca)\n",
    "mae_pca = mean_absolute_error(y_test, y_pred_pca)\n"
   ]
  },
  {
   "cell_type": "code",
   "execution_count": 46,
   "metadata": {},
   "outputs": [],
   "source": [
    "kbest = SelectKBest(score_func=f_regression, k=10)\n",
    "X_train_kbest = kbest.fit_transform(X_train, y_train)\n",
    "X_test_kbest = kbest.transform(X_test)\n",
    "\n",
    "rf_kbest = RandomForestRegressor(n_estimators=100, random_state=42, n_jobs=-1)\n",
    "rf_kbest.fit(X_train_kbest, y_train)\n",
    "y_pred_kbest = rf_kbest.predict(X_test_kbest)\n",
    "mae_kbest = mean_absolute_error(y_test, y_pred_kbest)\n"
   ]
  },
  {
   "cell_type": "code",
   "execution_count": 47,
   "metadata": {},
   "outputs": [],
   "source": [
    "mutual_info = SelectKBest(score_func=mutual_info_regression, k=10)\n",
    "X_train_mi = mutual_info.fit_transform(X_train, y_train)\n",
    "X_test_mi = mutual_info.transform(X_test)\n",
    "\n",
    "rf_mi = RandomForestRegressor(n_estimators=100, random_state=42, n_jobs=-1)\n",
    "rf_mi.fit(X_train_mi, y_train)\n",
    "y_pred_mi = rf_mi.predict(X_test_mi)\n",
    "mae_mi = mean_absolute_error(y_test, y_pred_mi)\n"
   ]
  },
  {
   "cell_type": "code",
   "execution_count": 48,
   "metadata": {},
   "outputs": [],
   "source": [
    "scaler = StandardScaler()\n",
    "df2.iloc[:, 1:-1] = scaler.fit_transform(df2.iloc[:, 1:-1])\n"
   ]
  },
  {
   "cell_type": "code",
   "execution_count": 49,
   "metadata": {},
   "outputs": [],
   "source": [
    "lr = LinearRegression()\n",
    "rfe = RFE(lr, n_features_to_select=10)\n",
    "X_train_rfe = rfe.fit_transform(X_train, y_train)\n",
    "X_test_rfe = rfe.transform(X_test)\n",
    "\n",
    "rf_rfe = RandomForestRegressor(n_estimators=100, random_state=42, n_jobs=-1)\n",
    "rf_rfe.fit(X_train_rfe, y_train)\n",
    "y_pred_rfe = rf_rfe.predict(X_test_rfe)\n",
    "mae_rfe = mean_absolute_error(y_test, y_pred_rfe)\n"
   ]
  },
  {
   "cell_type": "code",
   "execution_count": 50,
   "metadata": {},
   "outputs": [
    {
     "name": "stdout",
     "output_type": "stream",
     "text": [
      "Baseline MAE: 0.0050\n",
      "PCA MAE: 0.1078\n",
      "SelectKBest (F-test) MAE: 0.0081\n",
      "Mutual Information MAE: 0.0059\n",
      "RFE MAE: 0.0092\n"
     ]
    }
   ],
   "source": [
    "print(f\"Baseline MAE: {mae_baseline:.4f}\")\n",
    "print(f\"PCA MAE: {mae_pca:.4f}\")\n",
    "print(f\"SelectKBest (F-test) MAE: {mae_kbest:.4f}\")\n",
    "print(f\"Mutual Information MAE: {mae_mi:.4f}\")\n",
    "print(f\"RFE MAE: {mae_rfe:.4f}\")\n"
   ]
  },
  {
   "cell_type": "markdown",
   "metadata": {},
   "source": [
    "# Inference from Results\n",
    "\n",
    "## 1. Baseline (MAE: 0.0050) - Best Performance  \n",
    "- Using all features gave the most accurate predictions.  \n",
    "\n",
    "## 2. PCA (MAE: 0.1078) - Worst Performance  \n",
    "- High information loss, leading to poor results.  \n",
    "\n",
    "## 3. SelectKBest (MAE: 0.0081) - Moderate Performance  \n",
    "- Feature selection slightly reduced accuracy.  \n",
    "\n",
    "## 4. Mutual Information (MAE: 0.0059) - Second-Best  \n",
    "- Selected features retained most of the predictive power.  \n",
    "\n",
    "## 5. RFE (MAE: 0.0092) - Below Average  \n",
    "- Feature selection was not as effective for this dataset.  \n",
    "\n",
    "### Conclusion  \n",
    "- The **full feature set** performs best.  \n",
    "- **PCA should be avoided** due to high accuracy loss.  \n",
    "- **Mutual Information** is the best feature selection method if needed.  \n"
   ]
  },
  {
   "cell_type": "markdown",
   "metadata": {},
   "source": [
    "## PART 3"
   ]
  },
  {
   "cell_type": "code",
   "execution_count": 53,
   "metadata": {},
   "outputs": [],
   "source": [
    "import numpy as np\n",
    "import pandas as pd\n",
    "import matplotlib.pyplot as plt\n",
    "import seaborn as sns\n",
    "from sklearn.cluster import KMeans\n",
    "from sklearn.preprocessing import StandardScaler\n",
    "from sklearn.decomposition import PCA\n",
    "from sklearn.metrics import silhouette_score"
   ]
  },
  {
   "cell_type": "code",
   "execution_count": 54,
   "metadata": {},
   "outputs": [
    {
     "name": "stdout",
     "output_type": "stream",
     "text": [
      "   Id  SepalLengthCm  SepalWidthCm  PetalLengthCm  PetalWidthCm      Species\n",
      "0   1            5.1           3.5            1.4           0.2  Iris-setosa\n",
      "1   2            4.9           3.0            1.4           0.2  Iris-setosa\n",
      "2   3            4.7           3.2            1.3           0.2  Iris-setosa\n",
      "3   4            4.6           3.1            1.5           0.2  Iris-setosa\n",
      "4   5            5.0           3.6            1.4           0.2  Iris-setosa\n"
     ]
    }
   ],
   "source": [
    "# Step 1: Load the dataset\n",
    "df = pd.read_csv(\"Iris.csv\")\n",
    "print(df.head())"
   ]
  },
  {
   "cell_type": "code",
   "execution_count": 55,
   "metadata": {},
   "outputs": [],
   "source": [
    "# Step 2: Drop unnecessary columns (if any)\n",
    "df.drop(columns=['Id'], inplace=True)"
   ]
  },
  {
   "cell_type": "code",
   "execution_count": 56,
   "metadata": {},
   "outputs": [],
   "source": [
    "# Step 3: Extract features (excluding the target class)\n",
    "X = df.drop(columns=['Species'])"
   ]
  },
  {
   "cell_type": "code",
   "execution_count": 57,
   "metadata": {},
   "outputs": [],
   "source": [
    "# Step 4: Standardize the features\n",
    "scaler = StandardScaler()\n",
    "X_scaled = scaler.fit_transform(X)"
   ]
  },
  {
   "cell_type": "code",
   "execution_count": 58,
   "metadata": {},
   "outputs": [],
   "source": [
    "# Step 5: Determine the optimal number of clusters using the Elbow method\n",
    "inertia = []\n",
    "k_values = range(1, 11)\n",
    "for k in k_values:\n",
    "    kmeans = KMeans(n_clusters=k, random_state=42, n_init=10)\n",
    "    kmeans.fit(X_scaled)\n",
    "    inertia.append(kmeans.inertia_)"
   ]
  },
  {
   "cell_type": "code",
   "execution_count": 59,
   "metadata": {},
   "outputs": [
    {
     "data": {
      "image/png": "[encoded data removed]",
      "text/plain": [
       "<Figure size 800x500 with 1 Axes>"
      ]
     },
     "metadata": {},
     "output_type": "display_data"
    }
   ],
   "source": [
    "# Plot the Elbow curve\n",
    "plt.figure(figsize=(8, 5))\n",
    "plt.plot(k_values, inertia, marker='o', linestyle='--')\n",
    "plt.xlabel('Number of Clusters')\n",
    "plt.ylabel('Inertia')\n",
    "plt.title('Elbow Method for Optimal K')\n",
    "plt.show()"
   ]
  },
  {
   "cell_type": "code",
   "execution_count": 60,
   "metadata": {},
   "outputs": [],
   "source": [
    "# Step 6: Apply K-Means with the optimal K (assuming K=3 from the elbow method)\n",
    "kmeans = KMeans(n_clusters=3, random_state=42, n_init=10)\n",
    "df['Cluster'] = kmeans.fit_predict(X_scaled)"
   ]
  },
  {
   "cell_type": "code",
   "execution_count": 61,
   "metadata": {},
   "outputs": [
    {
     "name": "stdout",
     "output_type": "stream",
     "text": [
      "Silhouette Score: 0.4590\n"
     ]
    }
   ],
   "source": [
    "# Step 7: Evaluate clustering using silhouette score\n",
    "silhouette_avg = silhouette_score(X_scaled, df['Cluster'])\n",
    "print(f'Silhouette Score: {silhouette_avg:.4f}')"
   ]
  },
  {
   "cell_type": "code",
   "execution_count": 62,
   "metadata": {},
   "outputs": [
    {
     "data": {
      "image/png": "[encoded data removed]",
      "text/plain": [
       "<Figure size 800x500 with 1 Axes>"
      ]
     },
     "metadata": {},
     "output_type": "display_data"
    }
   ],
   "source": [
    "# Step 8: Visualize Clusters using PCA for dimensionality reduction\n",
    "pca = PCA(n_components=2)\n",
    "X_pca = pca.fit_transform(X_scaled)\n",
    "df['PCA1'] = X_pca[:, 0]\n",
    "df['PCA2'] = X_pca[:, 1]\n",
    "\n",
    "plt.figure(figsize=(8, 5))\n",
    "sns.scatterplot(x='PCA1', y='PCA2', hue=df['Cluster'], palette='viridis', data=df)\n",
    "plt.title('K-Means Clustering Results (PCA Reduced)')\n",
    "plt.show()"
   ]
  },
  {
   "cell_type": "code",
   "execution_count": null,
   "metadata": {},
   "outputs": [],
   "source": []
  }
 ],
 "metadata": {
  "kernelspec": {
   "display_name": "Python 3",
   "language": "python",
   "name": "python3"
  },
  "language_info": {
   "codemirror_mode": {
    "name": "ipython",
    "version": 3
   },
   "file_extension": ".py",
   "mimetype": "text/x-python",
   "name": "python",
   "nbconvert_exporter": "python",
   "pygments_lexer": "ipython3",
   "version": "3.10.0"
  }
 },
 "nbformat": 4,
 "nbformat_minor": 2
}
