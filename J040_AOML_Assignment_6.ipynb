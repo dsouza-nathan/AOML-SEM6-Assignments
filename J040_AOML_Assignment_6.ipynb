{
  "cells": [
    {
      "cell_type": "code",
      "execution_count": 1,
      "metadata": {
        "colab": {
          "base_uri": "https://localhost:8080/"
        },
        "id": "kMdhwXBVIHqr",
        "outputId": "22ae8a58-ead7-4adc-966c-1b724b798a1e"
      },
      "outputs": [],
      "source": [
        "import numpy as np\n",
        "import matplotlib.pyplot as plt\n",
        "from tensorflow.keras.datasets import fashion_mnist\n",
        "from sklearn.svm import SVC\n",
        "from sklearn.metrics import accuracy_score\n",
        "from sklearn.model_selection import GridSearchCV\n",
        "\n",
        "\n",
        "(x_train, y_train), (x_test, y_test) = fashion_mnist.load_data()\n",
        "\n",
        "x_train = x_train.reshape(x_train.shape[0], -1) / 255.0  # Normalize pixel values\n",
        "x_test = x_test.reshape(x_test.shape[0], -1) / 255.0\n",
        "\n",
        "\n",
        "x_train_small, y_train_small = x_train[:10000], y_train[:10000]\n",
        "x_test_small, y_test_small = x_test[:2000], y_test[:2000]\n"
      ]
    },
    {
      "cell_type": "code",
      "execution_count": 2,
      "metadata": {
        "colab": {
          "base_uri": "https://localhost:8080/"
        },
        "id": "kgi5cMX6I0n9",
        "outputId": "a3234557-394b-4d51-98f6-51fdecec3c17"
      },
      "outputs": [
        {
          "name": "stdout",
          "output_type": "stream",
          "text": [
            "Fitting 3 folds for each of 4 candidates, totalling 12 fits\n",
            "Best Linear SVM Accuracy: 0.8480\n",
            "Best C: 0.1\n"
          ]
        }
      ],
      "source": [
        "param_grid_linear = {'C': [0.1, 1, 10, 100]}\n",
        "\n",
        "grid_search_linear = GridSearchCV(SVC(kernel='linear'), param_grid_linear, cv=3, n_jobs=-1, verbose=2)\n",
        "grid_search_linear.fit(x_train_small, y_train_small)\n",
        "\n",
        "best_linear_svm = grid_search_linear.best_estimator_\n",
        "y_pred_linear = best_linear_svm.predict(x_test_small)\n",
        "acc_linear = accuracy_score(y_test_small, y_pred_linear)\n",
        "\n",
        "print(f\"Best Linear SVM Accuracy: {acc_linear:.4f}\")\n",
        "print(f\"Best C: {grid_search_linear.best_params_['C']}\")\n"
      ]
    },
    {
      "cell_type": "code",
      "execution_count": 3,
      "metadata": {
        "colab": {
          "base_uri": "https://localhost:8080/"
        },
        "id": "xzcwLUdGJOKQ",
        "outputId": "93260763-e182-4360-d25d-8515aa6f18e5"
      },
      "outputs": [
        {
          "name": "stdout",
          "output_type": "stream",
          "text": [
            "Fitting 3 folds for each of 9 candidates, totalling 27 fits\n",
            "Best Polynomial SVM Accuracy: 0.8680\n",
            "Best Parameters: {'C': 10, 'degree': 2}\n"
          ]
        }
      ],
      "source": [
        "param_grid_poly = {\n",
        "    'C': [0.1, 1, 10],\n",
        "    'degree': [2, 3, 4]\n",
        "}\n",
        "\n",
        "grid_search_poly = GridSearchCV(SVC(kernel='poly'), param_grid_poly, cv=3, n_jobs=-1, verbose=2)\n",
        "grid_search_poly.fit(x_train_small, y_train_small)\n",
        "\n",
        "best_poly_svm = grid_search_poly.best_estimator_\n",
        "y_pred_poly = best_poly_svm.predict(x_test_small)\n",
        "acc_poly = accuracy_score(y_test_small, y_pred_poly)\n",
        "\n",
        "print(f\"Best Polynomial SVM Accuracy: {acc_poly:.4f}\")\n",
        "print(f\"Best Parameters: {grid_search_poly.best_params_}\")\n"
      ]
    },
    {
      "cell_type": "code",
      "execution_count": 4,
      "metadata": {
        "colab": {
          "base_uri": "https://localhost:8080/"
        },
        "id": "UQf5ZSrZI5mi",
        "outputId": "8af60f77-a368-4a83-a81e-d1f1bf0aa618"
      },
      "outputs": [
        {
          "name": "stdout",
          "output_type": "stream",
          "text": [
            "Fitting 3 folds for each of 15 candidates, totalling 45 fits\n",
            "Best RBF SVM Accuracy: 0.8735\n",
            "Best Parameters: {'C': 10, 'gamma': 'scale'}\n"
          ]
        }
      ],
      "source": [
        "param_grid_rbf = {\n",
        "    'C': [0.1, 1, 10],\n",
        "    'gamma': ['scale', 'auto', 0.01, 0.1, 1]\n",
        "}\n",
        "\n",
        "grid_search_rbf = GridSearchCV(SVC(kernel='rbf'), param_grid_rbf, cv=3, n_jobs=-1, verbose=2)\n",
        "grid_search_rbf.fit(x_train_small, y_train_small)\n",
        "\n",
        "best_rbf_svm = grid_search_rbf.best_estimator_\n",
        "y_pred_rbf = best_rbf_svm.predict(x_test_small)\n",
        "acc_rbf = accuracy_score(y_test_small, y_pred_rbf)\n",
        "\n",
        "print(f\"Best RBF SVM Accuracy: {acc_rbf:.4f}\")\n",
        "print(f\"Best Parameters: {grid_search_rbf.best_params_}\")\n"
      ]
    },
    {
      "cell_type": "code",
      "execution_count": 9,
      "metadata": {
        "id": "qwoh6aGXSonF"
      },
      "outputs": [],
      "source": []
    },
    {
      "cell_type": "code",
      "execution_count": null,
      "metadata": {
        "id": "P2o3wzl1Srg_"
      },
      "outputs": [],
      "source": []
    }
  ],
  "metadata": {
    "accelerator": "GPU",
    "colab": {
      "gpuType": "T4",
      "provenance": []
    },
    "kernelspec": {
      "display_name": "Python 3",
      "name": "python3"
    },
    "language_info": {
      "codemirror_mode": {
        "name": "ipython",
        "version": 3
      },
      "file_extension": ".py",
      "mimetype": "text/x-python",
      "name": "python",
      "nbconvert_exporter": "python",
      "pygments_lexer": "ipython3",
      "version": "3.10.0"
    }
  },
  "nbformat": 4,
  "nbformat_minor": 0
}
